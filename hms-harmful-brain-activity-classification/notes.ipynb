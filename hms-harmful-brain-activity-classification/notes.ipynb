{
 "cells": [
  {
   "cell_type": "markdown",
   "metadata": {},
   "source": [
    "# Research Notes\n",
    "___"
   ]
  },
  {
   "cell_type": "markdown",
   "metadata": {},
   "source": [
    "## Testing / Sensor locations\n",
    "___\n",
    "1. **B-1:** Rhythmic delta activity with admixed sharp discharges. Spectrogram suggests tail end of a seizure. Disagreement between SZ and “Other”.\n",
    "2. **B-2:** Frontal lateralized sharp transients at ~1Hz with reversed polarity, likely non-cerebral source. Split between LPD and “Other” (artifact).\n",
    "3. **B-3:** Diffused semi-rhythmic delta background with low amplitude generalized periodic discharges, shifting morphology, proto-GPD type pattern.\n",
    "4. **B-4:** Semi-rhythmic delta activity with unstable morphology over the right hemisphere, proto-LRDA pattern.\n",
    "\n",
    "5. **B-5:** Rhythmic delta activity with unstable morphology, poorly sustained, proto-GRDA.\n",
    "6. **C-1:** 2Hz LPDs showing evolution with increasing amplitude, pattern between LPDs and seizure onset, edge-case.\n",
    "7. **D-1:** Abundant GPDs on suppressed background, frequency 1-2Hz, average ~1.5Hz, suggesting a seizure, edge-case.\n",
    "8. **C-2:** Split between LPDs and GPDs, higher amplitude discharges on the right.\n",
    "9. **D-2:** Tied between LPDs and LRDA, rhythmic in temporal derivations, periodic in parasagittal derivations.\n",
    "10. **C-3:** Split between GPDs and LRDA, sharp morphology on ascending limb of delta waves, seen on both sides.\n",
    "11. **D-3:** Split between GPDs and GRDA, asymmetry in slope between ascending and descending limbs of delta wave, edge-case.\n",
    "12. **C-4:** Split between LRDA and seizure, 2Hz LRDA on the left, spectrogram suggests tail end of a seizure, edge-case.\n",
    "13. **D-4:** Split between LRDA and GRDA, higher amplitude rhythmic delta on the left.\n",
    "14. **C-5:** Split between GRDA and seizure, evolving rhythmic delta activity with embedded epileptiform discharges, edge-case.\n",
    "15. **D-5:** Split between GRDA and LPDs, generalized rhythmic delta activity, higher amplitude on right with epileptiform discharges, edge-case.\n",
    "16. **Recording Regions Abbreviations:** LL = left lateral; RL = right lateral; LP = left parasagittal; RP = right parasagittal.\n",
    "\n",
    "## Abbreviations\n",
    "___\n",
    "### EEG Pattern Abbreviations and Their Meanings\n",
    "\n",
    "- **SIRPIDs**: Stimulus-Induced Rhythmic, Periodic, or Ictal Discharges\n",
    "  - Common in prolonged EEG monitoring, especially in critically ill patients.\n",
    "  - Associated with conditions like hypoxic injury, traumatic brain injury, hemorrhage, and toxic-metabolic disturbances.\n",
    "  - Can be linked to spontaneous electrographic seizures.\n",
    "  - [Source](https://pubmed.ncbi.nlm.nih.gov/29718832/)\n",
    "\n",
    "- **SI-PDs**: Stimulus-Induced Periodic Discharges\n",
    "  - Specific EEG patterns induced by stimuli.\n",
    "\n",
    "- **SI-RDA**: Stimulus-Induced Rhythmic Delta Activity\n",
    "  - Rhythmic activity in the delta frequency band induced by a stimulus.\n",
    "\n",
    "- **SI-SW**: Likely Stimulus-Induced Sharp Waves\n",
    "  - Sharp waves observed in response to a stimulus.\n",
    "\n",
    "- **SI-bursts**: Likely Stimulus-Induced Bursts\n",
    "  - Bursts of electrical activity seen in response to a stimulus.\n",
    "\n",
    "- **SI-IIC**: Likely Stimulus-Induced Irregular Intermittent Complexes\n",
    "  - Irregular, intermittent complex discharges in response to stimuli.\n",
    "\n",
    "- **SI-BIRDS**: Likely Stimulus-Induced Brief Ictal Rhythmic Discharges\n",
    "  - Brief, seizure-like rhythmic discharges triggered by a stimulus.\n",
    "\n",
    "These EEG patterns are critical in interpreting the neurological state of patients, particularly those who are critically ill or have specific neurological conditions. They provide valuable information for treatment decisions"
   ]
  },
  {
   "cell_type": "code",
   "execution_count": 55,
   "metadata": {},
   "outputs": [
    {
     "ename": "AttributeError",
     "evalue": "'dict' object has no attribute 'head'",
     "output_type": "error",
     "traceback": [
      "\u001b[1;31m---------------------------------------------------------------------------\u001b[0m",
      "\u001b[1;31mAttributeError\u001b[0m                            Traceback (most recent call last)",
      "Cell \u001b[1;32mIn[55], line 7\u001b[0m\n\u001b[0;32m      4\u001b[0m df_train \u001b[38;5;241m=\u001b[39m pd\u001b[38;5;241m.\u001b[39mread_parquet(\u001b[38;5;124m'\u001b[39m\u001b[38;5;124mdata/train.pqt\u001b[39m\u001b[38;5;124m'\u001b[39m)\n\u001b[0;32m      5\u001b[0m spectrograms \u001b[38;5;241m=\u001b[39m np\u001b[38;5;241m.\u001b[39mload(\u001b[38;5;124m'\u001b[39m\u001b[38;5;124mdata/specs.npy\u001b[39m\u001b[38;5;124m'\u001b[39m,allow_pickle\u001b[38;5;241m=\u001b[39m\u001b[38;5;28;01mTrue\u001b[39;00m)\u001b[38;5;241m.\u001b[39mitem()\n\u001b[1;32m----> 7\u001b[0m display(\u001b[43mspectrograms\u001b[49m\u001b[38;5;241;43m.\u001b[39;49m\u001b[43mhead\u001b[49m())\n",
      "\u001b[1;31mAttributeError\u001b[0m: 'dict' object has no attribute 'head'"
     ]
    }
   ],
   "source": [
    "import pandas as pd\n",
    "import numpy as np \n",
    "\n",
    "df_train = pd.read_parquet('data/train.pqt')\n",
    "spectrograms = np.load('data/specs.npy',allow_pickle=True).item()\n",
    "\n",
    "display(spectrograms.head())"
   ]
  },
  {
   "cell_type": "code",
   "execution_count": 45,
   "metadata": {},
   "outputs": [
    {
     "data": {
      "text/plain": [
       "Index(['eeg_id', 'spec_id', 'min', 'max', 'patient_id', 'seizure_vote',\n",
       "       'lpd_vote', 'gpd_vote', 'lrda_vote', 'grda_vote',\n",
       "       ...\n",
       "       'f390', 'f391', 'f392', 'f393', 'f394', 'f395', 'f396', 'f397', 'f398',\n",
       "       'f399'],\n",
       "      dtype='object', length=412)"
      ]
     },
     "execution_count": 45,
     "metadata": {},
     "output_type": "execute_result"
    }
   ],
   "source": [
    "df_train.columns"
   ]
  },
  {
   "cell_type": "code",
   "execution_count": null,
   "metadata": {},
   "outputs": [],
   "source": [
    "df.set_index('patient_id')\n",
    "df.head()\n"
   ]
  }
 ],
 "metadata": {
  "kernelspec": {
   "display_name": "kaggle_hms",
   "language": "python",
   "name": "python3"
  },
  "language_info": {
   "codemirror_mode": {
    "name": "ipython",
    "version": 3
   },
   "file_extension": ".py",
   "mimetype": "text/x-python",
   "name": "python",
   "nbconvert_exporter": "python",
   "pygments_lexer": "ipython3",
   "version": "3.10.13"
  }
 },
 "nbformat": 4,
 "nbformat_minor": 2
}
