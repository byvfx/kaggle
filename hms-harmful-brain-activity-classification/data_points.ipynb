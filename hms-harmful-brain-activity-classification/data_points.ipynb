{
 "cells": [
  {
   "cell_type": "markdown",
   "metadata": {},
   "source": [
    "1. **B-1:** Rhythmic delta activity with admixed sharp discharges. Spectrogram suggests tail end of a seizure. Disagreement between SZ and “Other”.\n",
    "2. **B-2:** Frontal lateralized sharp transients at ~1Hz with reversed polarity, likely non-cerebral source. Split between LPD and “Other” (artifact).\n",
    "3. **B-3:** Diffused semi-rhythmic delta background with low amplitude generalized periodic discharges, shifting morphology, proto-GPD type pattern.\n",
    "4. **B-4:** Semi-rhythmic delta activity with unstable morphology over the right hemisphere, proto-LRDA pattern.\n",
    "5. **B-5:** Rhythmic delta activity with unstable morphology, poorly sustained, proto-GRDA.\n",
    "6. **C-1:** 2Hz LPDs showing evolution with increasing amplitude, pattern between LPDs and seizure onset, edge-case.\n",
    "7. **D-1:** Abundant GPDs on suppressed background, frequency 1-2Hz, average ~1.5Hz, suggesting a seizure, edge-case.\n",
    "8. **C-2:** Split between LPDs and GPDs, higher amplitude discharges on the right.\n",
    "9. **D-2:** Tied between LPDs and LRDA, rhythmic in temporal derivations, periodic in parasagittal derivations.\n",
    "10. **C-3:** Split between GPDs and LRDA, sharp morphology on ascending limb of delta waves, seen on both sides.\n",
    "11. **D-3:** Split between GPDs and GRDA, asymmetry in slope between ascending and descending limbs of delta wave, edge-case.\n",
    "12. **C-4:** Split between LRDA and seizure, 2Hz LRDA on the left, spectrogram suggests tail end of a seizure, edge-case.\n",
    "13. **D-4:** Split between LRDA and GRDA, higher amplitude rhythmic delta on the left.\n",
    "14. **C-5:** Split between GRDA and seizure, evolving rhythmic delta activity with embedded epileptiform discharges, edge-case.\n",
    "15. **D-5:** Split between GRDA and LPDs, generalized rhythmic delta activity, higher amplitude on right with epileptiform discharges, edge-case.\n",
    "16. **Recording Regions Abbreviations:** LL = left lateral; RL = right lateral; LP = left parasagittal; RP = right parasagittal."
   ]
  }
 ],
 "metadata": {
  "language_info": {
   "name": "python"
  }
 },
 "nbformat": 4,
 "nbformat_minor": 2
}
